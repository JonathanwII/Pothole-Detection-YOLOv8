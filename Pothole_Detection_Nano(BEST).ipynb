{
  "cells": [
    {
      "cell_type": "code",
      "source": [
        "# Here is how to get the code:\n",
        "# 1. Download the provided dataset from our github\n",
        "# 2. Sign Up and Log In to Roboflow\n",
        "# 3. Make a new Roboflow project (Input \"potholes\" in the Annotation Group field)\n",
        "# 4. Upload the downloaded images and xml file to Roboflow\n",
        "# 5. Choose the dataset split with 80% Train and 20% Validation\n",
        "# 6. Go to the Generate tab, in the Preprocessing part, add Resize Stretch to 640x640, then select create to create a new dataset version\n",
        "# 7. Go to the Version tab and download the dataset in YOLOv8 format, and select the Show Download Code selection\n",
        "# 8. Copy and paste the code into a new cell below"
      ],
      "metadata": {
        "id": "kaCnFX6p1QAB"
      },
      "execution_count": null,
      "outputs": []
    },
    {
      "cell_type": "code",
      "execution_count": null,
      "metadata": {
        "id": "DbmYikRsywj3"
      },
      "outputs": [],
      "source": [
        "# Insert your dataset download code from Roboflow into this cell!"
      ]
    },
    {
      "cell_type": "code",
      "source": [
        "# How to set up the data.yaml file:\n",
        "# 1. Run the cell that has the download code from Roboflow\n",
        "# 2. Go to the files tab on the left, find /content/your_dataset_name/data.yaml and open it\n",
        "# 3. At the bottom lines, change the train and val values into:\n",
        "#    train: /content/First-Dataset-1/train/images\n",
        "#    val: /content/First-Dataset-1/valid/images\n",
        "# 4. Save the file (ctrl + s)"
      ],
      "metadata": {
        "id": "QJzcf3Pg1XtH"
      },
      "execution_count": null,
      "outputs": []
    },
    {
      "cell_type": "code",
      "execution_count": null,
      "metadata": {
        "id": "3Hj2SlY_zvJc"
      },
      "outputs": [],
      "source": [
        "!nvidia-smi"
      ]
    },
    {
      "cell_type": "code",
      "execution_count": null,
      "metadata": {
        "id": "3q_AgQyasLyi"
      },
      "outputs": [],
      "source": [
        "!pip install ultralytics"
      ]
    },
    {
      "cell_type": "code",
      "execution_count": null,
      "metadata": {
        "id": "7vhSeV9aslm4"
      },
      "outputs": [],
      "source": [
        "from ultralytics import YOLO\n",
        "import os\n",
        "!yolo checks"
      ]
    },
    {
      "cell_type": "code",
      "execution_count": null,
      "metadata": {
        "id": "REAIS9BFaGh9"
      },
      "outputs": [],
      "source": [
        "!yolo task=detect \\\n",
        "  mode=train \\\n",
        "  model=yolov8n.pt \\\n",
        "  data={dataset.location}/data.yaml \\\n",
        "  epochs=100 \\\n",
        "  batch=-1 \\\n",
        "  imgsz=640 \\\n",
        "  save=True \\\n",
        "  cache=ram \\\n",
        "  workers=6 \\\n",
        "  verbose=True \\\n",
        "  val=True \\\n",
        "  plots=True \\\n",
        "  patience=25"
      ]
    },
    {
      "cell_type": "code",
      "execution_count": null,
      "metadata": {
        "id": "jcodDJ8L1xHz"
      },
      "outputs": [],
      "source": [
        "from IPython.display import display, Image\n",
        "from IPython import display\n",
        "display.clear_output()"
      ]
    },
    {
      "cell_type": "code",
      "execution_count": null,
      "metadata": {
        "id": "89cFSEkX3D6w"
      },
      "outputs": [],
      "source": [
        "Image(filename=f'/content/runs/detect/train/confusion_matrix.png', width=600)"
      ]
    },
    {
      "cell_type": "code",
      "execution_count": null,
      "metadata": {
        "id": "7xM1_kiG3P9o"
      },
      "outputs": [],
      "source": [
        "Image(filename=f'/content/runs/detect/train/results.png',width=600)"
      ]
    },
    {
      "cell_type": "code",
      "execution_count": null,
      "metadata": {
        "id": "jdhBP4bP3ZrX"
      },
      "outputs": [],
      "source": [
        "!yolo task=detect mode=val model=/content/runs/detect/train/weights/best.pt data={dataset.location}/data.yaml"
      ]
    },
    {
      "cell_type": "code",
      "execution_count": null,
      "metadata": {
        "id": "nERtI_w13tzi"
      },
      "outputs": [],
      "source": [
        "!yolo task=detect mode=predict model=/content/runs/detect/train/weights/best.pt conf=0.5 source={dataset.location}/test/images show=True imgsz=640"
      ]
    },
    {
      "cell_type": "code",
      "execution_count": null,
      "metadata": {
        "id": "bjaW81xd5sWB"
      },
      "outputs": [],
      "source": [
        "import glob\n",
        "from IPython.display import display, Image\n",
        "\n",
        "for image_path in glob.glob(f'/content/runs/detect/predict/*.jpg'):\n",
        "  display(Image(filename=image_path, height=600))\n",
        "  print()"
      ]
    },
    {
      "cell_type": "markdown",
      "metadata": {
        "id": "ry_aWrjvkQXz"
      },
      "source": [
        "**EXTRA PREDICTION**"
      ]
    },
    {
      "cell_type": "code",
      "execution_count": null,
      "metadata": {
        "id": "9sRpZyBikQD-"
      },
      "outputs": [],
      "source": [
        "import gdown\n",
        "url = 'https://drive.google.com/uc?id=1h6MR3VUZKIE4IHAS03Gl6qNk_SvEyrZI'\n",
        "output = 'Extra_Predict.zip'\n",
        "gdown.download(url, output, quiet=True)\n",
        "!unzip -q Extra_Predict.zip -d /content/"
      ]
    },
    {
      "cell_type": "code",
      "execution_count": null,
      "metadata": {
        "id": "5pQoWvlKleVZ"
      },
      "outputs": [],
      "source": [
        "!yolo task=detect mode=predict model=/content/FirstN.pt conf=0.5 source=/content/Extra_Predict/Predict show=True imgsz=640 show_labels=False"
      ]
    },
    {
      "cell_type": "code",
      "source": [
        "!yolo task=detect mode=predict model=/content/FirstN.pt conf=0.1 source=/content/Extra_Predict/Predict show=True imgsz=640 show_labels=False"
      ],
      "metadata": {
        "id": "eMDYpw4lb3Hk"
      },
      "execution_count": null,
      "outputs": []
    },
    {
      "cell_type": "code",
      "execution_count": null,
      "metadata": {
        "id": "5QCmrvc8mGR_"
      },
      "outputs": [],
      "source": [
        "import glob\n",
        "from IPython.display import display, Image\n",
        "image_paths = glob.glob(f'/content/runs/detect/predict/*.jpg')\n",
        "image_paths = sorted(image_paths)\n",
        "for image_path in image_paths:\n",
        "  display(Image(filename=image_path, height=600))\n",
        "  print()"
      ]
    },
    {
      "cell_type": "code",
      "source": [
        "import glob\n",
        "from IPython.display import display, Image\n",
        "image_paths = glob.glob(f'/content/runs/detect/predict2/*.jpg')\n",
        "image_paths = sorted(image_paths)\n",
        "for image_path in image_paths:\n",
        "  display(Image(filename=image_path, height=600))\n",
        "  print()"
      ],
      "metadata": {
        "id": "DxX-TuEOb7Ln"
      },
      "execution_count": null,
      "outputs": []
    },
    {
      "cell_type": "code",
      "execution_count": null,
      "metadata": {
        "id": "rWdKoSrXQOMz"
      },
      "outputs": [],
      "source": [
        "!yolo task=detect mode=predict model=/content/FirstN.pt conf=0.5 source=/content/Extra_Predict/demo2.mp4 show=True"
      ]
    },
    {
      "cell_type": "code",
      "execution_count": null,
      "metadata": {
        "id": "MPD63lZeRi4l",
        "colab": {
          "base_uri": "https://localhost:8080/"
        },
        "outputId": "1458b060-b5ca-44fb-9126-31d8dbe74a0b"
      },
      "outputs": [
        {
          "output_type": "execute_result",
          "data": {
            "text/plain": [
              "0"
            ]
          },
          "metadata": {},
          "execution_count": 12
        }
      ],
      "source": [
        "from IPython.display import HTML\n",
        "from base64 import b64encode\n",
        "import os\n",
        "\n",
        "save_path = '/content/runs/detect/predict3/demo2.avi'\n",
        "\n",
        "compressed_path = \"/content/result_compressed.mp4\"\n",
        "\n",
        "os.system(f\"ffmpeg -i {save_path} -vcodec libx264 {compressed_path}\")"
      ]
    },
    {
      "cell_type": "code",
      "source": [
        "!yolo task=detect mode=predict model=/content/FirstN.pt conf=0.1 source=/content/Extra_Predict/demo2.mp4 show=True imgsz=640"
      ],
      "metadata": {
        "id": "B1adxuQBOcC8"
      },
      "execution_count": null,
      "outputs": []
    },
    {
      "cell_type": "code",
      "source": [
        "from IPython.display import HTML\n",
        "from base64 import b64encode\n",
        "import os\n",
        "\n",
        "save_path = '/content/runs/detect/predict4/demo2.avi'\n",
        "\n",
        "compressed_path = \"/content/result_compressed2.mp4\"\n",
        "\n",
        "os.system(f\"ffmpeg -i {save_path} -vcodec libx264 {compressed_path}\")"
      ],
      "metadata": {
        "colab": {
          "base_uri": "https://localhost:8080/"
        },
        "id": "xDEyK-dkOh7X",
        "outputId": "4c05b8f8-b660-499d-9abf-45114367d5d4"
      },
      "execution_count": null,
      "outputs": [
        {
          "output_type": "execute_result",
          "data": {
            "text/plain": [
              "0"
            ]
          },
          "metadata": {},
          "execution_count": 15
        }
      ]
    },
    {
      "cell_type": "code",
      "execution_count": null,
      "metadata": {
        "id": "TRFRVPYySPEk"
      },
      "outputs": [],
      "source": [
        "mp4 = open(\"/content/result_compressed.mp4\",'rb').read()\n",
        "data_url = \"data:video/mp4;base64,\" + b64encode(mp4).decode()\n",
        "HTML(\"\"\"\n",
        "<video width=1000 controls>\n",
        "      <source src=\"%s\" type=\"video/mp4\">\n",
        "</video>\n",
        "\"\"\" % data_url)"
      ]
    },
    {
      "cell_type": "code",
      "source": [
        "mp4 = open(\"/content/result_compressed2.mp4\",'rb').read()\n",
        "data_url = \"data:video/mp4;base64,\" + b64encode(mp4).decode()\n",
        "HTML(\"\"\"\n",
        "<video width=1000 controls>\n",
        "      <source src=\"%s\" type=\"video/mp4\">\n",
        "</video>\n",
        "\"\"\" % data_url)"
      ],
      "metadata": {
        "id": "6zJnJUZcOkXi"
      },
      "execution_count": null,
      "outputs": []
    }
  ],
  "metadata": {
    "colab": {
      "provenance": []
    },
    "kernelspec": {
      "display_name": "Python 3",
      "name": "python3"
    },
    "language_info": {
      "name": "python"
    }
  },
  "nbformat": 4,
  "nbformat_minor": 0
}