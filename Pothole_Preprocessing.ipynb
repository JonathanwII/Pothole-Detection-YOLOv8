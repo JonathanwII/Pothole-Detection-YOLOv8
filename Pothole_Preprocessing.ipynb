{
  "cells": [
    {
      "cell_type": "markdown",
      "source": [
        "**File Number Renaming Ascending Order**"
      ],
      "metadata": {
        "id": "xEDQS-AsRXt9"
      }
    },
    {
      "cell_type": "code",
      "source": [
        "import os\n",
        "import shutil\n",
        "\n",
        "dataset_folder_path = '/content/DS1'\n",
        "xml_path = '/content/DS1 XML'\n",
        "\n",
        "new_ds = '/content/DS1 new'\n",
        "new_ds_xml = '/content/DS1 XML new'\n",
        "\n",
        "ctr = 1\n",
        "\n",
        "for filename in os.listdir(dataset_folder_path):\n",
        "    if os.path.isfile(os.path.join(dataset_folder_path, filename)):\n",
        "\n",
        "        jpg = 'DS1-' + str(ctr) + '.jpg'\n",
        "        xml = 'DS1-' + str(ctr) + '.xml'\n",
        "        ctr+=1\n",
        "\n",
        "        src_path = os.path.join(dataset_folder_path, filename)\n",
        "        dest_path = os.path.join(new_ds, jpg)\n",
        "        shutil.copy(src_path, dest_path)\n",
        "\n",
        "        src_path2 = os.path.join(xml_path, filename.replace('.jpg', '.xml'))\n",
        "        dest_path2 = os.path.join(new_ds_xml, xml)\n",
        "        shutil.copy(src_path2, dest_path2)\n",
        "        print(filename, filename.replace('.jpg', '.xml'))"
      ],
      "metadata": {
        "id": "qXT_x-nQRixo"
      },
      "execution_count": null,
      "outputs": []
    },
    {
      "cell_type": "markdown",
      "source": [
        "**Zip Folder Downloading**"
      ],
      "metadata": {
        "id": "kT8RsPdcnRbN"
      }
    },
    {
      "cell_type": "code",
      "source": [
        "import shutil\n",
        "folder_to_download = '/content/DS4 XML'\n",
        "\n",
        "zip_file_name = 'DS4 XML.zip'\n",
        "\n",
        "shutil.make_archive(zip_file_name.split('.')[0], 'zip', folder_to_download)"
      ],
      "metadata": {
        "id": "nQnRA8lof15y"
      },
      "execution_count": null,
      "outputs": []
    },
    {
      "cell_type": "markdown",
      "metadata": {
        "id": "azsAYU2MjySc"
      },
      "source": [
        "**Processing Annotations**"
      ]
    },
    {
      "cell_type": "code",
      "source": [
        "import os\n",
        "# os.makedirs('/content/DS2 XML', exist_ok=True)\n",
        "# os.makedirs('/content/DS3 XML', exist_ok=True)\n",
        "os.makedirs('/content/DS4 XML', exist_ok=True)"
      ],
      "metadata": {
        "id": "TMJ0qabfN-_9"
      },
      "execution_count": null,
      "outputs": []
    },
    {
      "cell_type": "markdown",
      "source": [
        "Renaming XML Object Name"
      ],
      "metadata": {
        "id": "b0Fc8jpwnoTc"
      }
    },
    {
      "cell_type": "code",
      "execution_count": null,
      "metadata": {
        "id": "mcVqWvF5C6W7",
        "colab": {
          "base_uri": "https://localhost:8080/"
        },
        "outputId": "28523342-9814-4c7b-a973-e07ccf0877ba"
      },
      "outputs": [
        {
          "output_type": "stream",
          "name": "stdout",
          "text": [
            "125 498 447\n"
          ]
        }
      ],
      "source": [
        "import xml.etree.ElementTree as ET\n",
        "folder  = '/content/drive/MyDrive/Raw Image dataset/DS4 XML'\n",
        "save_folder = '/content/DS4 XML'\n",
        "\n",
        "small = 0\n",
        "medium = 0\n",
        "large = 0\n",
        "\n",
        "for xml in os.listdir(folder):\n",
        "  source_xml_path = os.path.join(folder, xml)\n",
        "  destination_xml_path = os.path.join(save_folder, xml)\n",
        "\n",
        "  tree = ET.parse(source_xml_path)\n",
        "  root = tree.getroot()\n",
        "\n",
        "  size = root.find('size')\n",
        "  w = int(size.find('width').text)\n",
        "  h = int(size.find('height').text)\n",
        "\n",
        "  for obj in root.findall('object'):\n",
        "    name = obj.find('name')\n",
        "    box = obj.find('bndbox')\n",
        "\n",
        "    width = float(box.find('xmax').text) - float(box.find('xmin').text)\n",
        "    height = float(box.find('ymax').text) - float(box.find('ymin').text)\n",
        "\n",
        "    width = width * 300 / w\n",
        "    height = height * 300 / h\n",
        "\n",
        "    area = width * height\n",
        "\n",
        "    if(area <= 1024):\n",
        "      name.text = 'Small Pothole'\n",
        "      small += 1\n",
        "    elif(area > 1024 and area <= 9216):\n",
        "      name.text = 'Medium Pothole'\n",
        "      medium += 1\n",
        "    elif(area > 9216):\n",
        "      name.text = 'Large Pothole'\n",
        "      large += 1\n",
        "\n",
        "  new_xml_file = os.path.join(save_folder, os.path.basename(xml))\n",
        "  tree.write(new_xml_file)\n",
        "\n",
        "print(small, medium, large)"
      ]
    },
    {
      "cell_type": "markdown",
      "source": [
        "Single File Test"
      ],
      "metadata": {
        "id": "RuGc1v81nljk"
      }
    },
    {
      "cell_type": "code",
      "execution_count": null,
      "metadata": {
        "colab": {
          "base_uri": "https://localhost:8080/"
        },
        "id": "1x7g_5-Sk8Sb",
        "outputId": "db1e62dd-eb8e-40b1-ccbd-8837effe5757"
      },
      "outputs": [
        {
          "output_type": "stream",
          "name": "stdout",
          "text": [
            "Medium Pothole\n",
            "7475.0\n",
            "\n"
          ]
        }
      ],
      "source": [
        "tree = ET.parse(folder + '/img-1.xml')\n",
        "root = tree.getroot()\n",
        "\n",
        "size = root.find('size')\n",
        "w = int(size.find('width').text)\n",
        "h = int(size.find('height').text)\n",
        "\n",
        "for obj in root.findall('object'):\n",
        "  name = obj.find('name')\n",
        "  box = obj.find('bndbox')\n",
        "\n",
        "  width = float(box.find('xmax').text) - float(box.find('xmin').text)\n",
        "  height = float(box.find('ymax').text) - float(box.find('ymin').text)\n",
        "\n",
        "  width = width * 300 / w\n",
        "  height = height * 300 / h\n",
        "\n",
        "  area = width * height\n",
        "\n",
        "  if(area <= 1024):\n",
        "    name.text = 'Small Pothole'\n",
        "  elif(area > 1024 and area <= 9216):\n",
        "    name.text = 'Medium Pothole'\n",
        "  elif(area > 9216):\n",
        "    name.text = 'Large Pothole'\n",
        "\n",
        "  print(name.text)\n",
        "  print(area)\n",
        "  print()"
      ]
    },
    {
      "cell_type": "markdown",
      "source": [
        "Showing Image with Box"
      ],
      "metadata": {
        "id": "3rhlEanBnvff"
      }
    },
    {
      "cell_type": "code",
      "source": [
        "!pip install tqdm\n",
        "from tqdm import tqdm"
      ],
      "metadata": {
        "colab": {
          "base_uri": "https://localhost:8080/"
        },
        "id": "6a5KBJRQNOY3",
        "outputId": "33ef847e-28d6-4be6-d29f-3a438e8d5a51"
      },
      "execution_count": null,
      "outputs": [
        {
          "output_type": "stream",
          "name": "stdout",
          "text": [
            "Requirement already satisfied: tqdm in /usr/local/lib/python3.10/dist-packages (4.66.4)\n"
          ]
        }
      ]
    },
    {
      "cell_type": "code",
      "source": [
        "import os\n",
        "import cv2\n",
        "import matplotlib.pyplot as plt\n",
        "import xml.etree.ElementTree as ET\n",
        "\n",
        "def parse_xml_annotation(xml_file):\n",
        "    tree = ET.parse(xml_file)\n",
        "    root = tree.getroot()\n",
        "\n",
        "    boxes = []\n",
        "    for obj in root.findall('object'):\n",
        "        pothole_size = obj.find('name').text\n",
        "        box = obj.find('bndbox')\n",
        "        xmin = int(box.find('xmin').text)\n",
        "        ymin = int(box.find('ymin').text)\n",
        "        xmax = int(box.find('xmax').text)\n",
        "        ymax = int(box.find('ymax').text)\n",
        "        boxes.append((xmin, ymin, xmax, ymax, pothole_size))\n",
        "\n",
        "    return boxes\n",
        "\n",
        "def draw_boxes_on_image(image_path, boxes, small, medium, large):\n",
        "    image = cv2.imread(image_path)\n",
        "    image= cv2.cvtColor(image, cv2.COLOR_BGR2RGB)\n",
        "    for box in boxes:\n",
        "        xmin, ymin, xmax, ymax, pothole_size = box\n",
        "\n",
        "        color = (0, 255, 0)\n",
        "        if(pothole_size == 'Small Pothole'):\n",
        "          color = (0, 255, 0)\n",
        "          small += 1\n",
        "        elif(pothole_size == 'Medium Pothole'):\n",
        "          color = (255, 255, 0)\n",
        "          medium += 1\n",
        "        elif(pothole_size == 'Large Pothole'):\n",
        "          color = (255, 0, 0)\n",
        "          large += 1\n",
        "\n",
        "        cv2.rectangle(image, (xmin, ymin), (xmax, ymax), color, 2)\n",
        "\n",
        "    return image, small, medium, large\n",
        "\n",
        "images_folder = '/content/drive/MyDrive/Raw Image dataset/DS2'\n",
        "\n",
        "annotations_folder = '/content/drive/MyDrive/Raw Image dataset/DS2 XML'\n",
        "\n",
        "small = 0\n",
        "medium = 0\n",
        "large = 0\n",
        "\n",
        "for image_file in tqdm(os.listdir(images_folder)):\n",
        "  if image_file.endswith(('.jpg', '.jpeg', '.png')):\n",
        "    image_path = os.path.join(images_folder, image_file)\n",
        "    annotation_file = os.path.join(annotations_folder, image_file.replace('.jpg', '.xml'))\n",
        "\n",
        "    if os.path.exists(annotation_file):\n",
        "      boxes = parse_xml_annotation(annotation_file)\n",
        "      annotated_image, small, medium, large = draw_boxes_on_image(image_path, boxes, small, medium, large)\n",
        "\n",
        "      fig, axes = plt.subplots(1, 2, figsize=(10, 5))\n",
        "\n",
        "      axes[0].imshow(annotated_image)\n",
        "      axes[0].set_title(image_path[-30:])\n",
        "\n",
        "      axes[0].axis('off')\n",
        "\n",
        "      plt.show()\n",
        "\n",
        "print(small, medium, large)"
      ],
      "metadata": {
        "id": "vjf_8ZiuZdz8",
        "colab": {
          "base_uri": "https://localhost:8080/"
        },
        "outputId": "2ef65b73-c926-4d06-8b98-5235709a9866"
      },
      "execution_count": null,
      "outputs": [
        {
          "output_type": "stream",
          "name": "stderr",
          "text": [
            "100%|██████████| 656/656 [04:19<00:00,  2.52it/s]"
          ]
        },
        {
          "output_type": "stream",
          "name": "stdout",
          "text": [
            "625 812 285\n"
          ]
        },
        {
          "output_type": "stream",
          "name": "stderr",
          "text": [
            "\n"
          ]
        }
      ]
    },
    {
      "cell_type": "markdown",
      "source": [
        "Single File Test"
      ],
      "metadata": {
        "id": "iKxma5jFn4xl"
      }
    },
    {
      "cell_type": "code",
      "source": [
        "image_path = '/content/drive/MyDrive/Pothole_img_xml/img-2.jpg'\n",
        "annotation_file = '/content/drive/MyDrive/Pothole_img_xml/img-2.xml'\n",
        "\n",
        "if os.path.exists(annotation_file):\n",
        "    boxes = parse_xml_annotation(annotation_file)\n",
        "    annotated_image = draw_boxes_on_image(image_path, boxes)\n",
        "\n",
        "    print(image_path)\n",
        "    plt.imshow(annotated_image)"
      ],
      "metadata": {
        "id": "E5uvXIMJRSUt"
      },
      "execution_count": null,
      "outputs": []
    }
  ],
  "metadata": {
    "colab": {
      "provenance": []
    },
    "kernelspec": {
      "display_name": "Python 3",
      "name": "python3"
    },
    "language_info": {
      "name": "python"
    }
  },
  "nbformat": 4,
  "nbformat_minor": 0
}